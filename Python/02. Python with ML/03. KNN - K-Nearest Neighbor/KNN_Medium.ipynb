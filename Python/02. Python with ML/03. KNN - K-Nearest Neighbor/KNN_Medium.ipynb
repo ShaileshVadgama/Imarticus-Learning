{
 "cells": [
  {
   "cell_type": "code",
   "execution_count": 1,
   "metadata": {},
   "outputs": [],
   "source": [
    "import pandas as pd\n",
    "import numpy as np  \n",
    "import matplotlib.pyplot as plt  \n",
    "%matplotlib inline\n",
    "import seaborn as sns"
   ]
  },
  {
   "cell_type": "markdown",
   "metadata": {},
   "source": [
    "# Dataset\n",
    "\n",
    "# As you can see, there are 12 columns, \n",
    "# namely as region, tenure, age, marital, address, income, ed, employ, \n",
    "# retire, gender, reside, and custcat. \n",
    "# We have a target column, ‘custcat’ categorizes the customers into four groups:\n",
    "\n",
    "# 1- Basic Service\n",
    "# 2- E-Service\n",
    "# 3- Plus Service\n",
    "# 4- Total Service"
   ]
  },
  {
   "cell_type": "code",
   "execution_count": 2,
   "metadata": {},
   "outputs": [],
   "source": [
    "df = pd.read_csv(\"C:/Users/Admin.DESKTOP-Q9CVR13/Desktop/DataSet imarticus/PYTHON/Day 9 KNN(K-Nearest Neighbor/Telecustomers.csv\")"
   ]
  },
  {
   "cell_type": "code",
   "execution_count": 3,
   "metadata": {},
   "outputs": [
    {
     "data": {
      "text/html": [
       "<div>\n",
       "<style scoped>\n",
       "    .dataframe tbody tr th:only-of-type {\n",
       "        vertical-align: middle;\n",
       "    }\n",
       "\n",
       "    .dataframe tbody tr th {\n",
       "        vertical-align: top;\n",
       "    }\n",
       "\n",
       "    .dataframe thead th {\n",
       "        text-align: right;\n",
       "    }\n",
       "</style>\n",
       "<table border=\"1\" class=\"dataframe\">\n",
       "  <thead>\n",
       "    <tr style=\"text-align: right;\">\n",
       "      <th></th>\n",
       "      <th>region</th>\n",
       "      <th>tenure</th>\n",
       "      <th>age</th>\n",
       "      <th>marital</th>\n",
       "      <th>address</th>\n",
       "      <th>income</th>\n",
       "      <th>ed</th>\n",
       "      <th>employ</th>\n",
       "      <th>retire</th>\n",
       "      <th>gender</th>\n",
       "      <th>reside</th>\n",
       "      <th>custcat</th>\n",
       "    </tr>\n",
       "  </thead>\n",
       "  <tbody>\n",
       "    <tr>\n",
       "      <th>0</th>\n",
       "      <td>2</td>\n",
       "      <td>13</td>\n",
       "      <td>44</td>\n",
       "      <td>1</td>\n",
       "      <td>9</td>\n",
       "      <td>64.0</td>\n",
       "      <td>4</td>\n",
       "      <td>5</td>\n",
       "      <td>0.0</td>\n",
       "      <td>0</td>\n",
       "      <td>2</td>\n",
       "      <td>1</td>\n",
       "    </tr>\n",
       "    <tr>\n",
       "      <th>1</th>\n",
       "      <td>3</td>\n",
       "      <td>11</td>\n",
       "      <td>33</td>\n",
       "      <td>1</td>\n",
       "      <td>7</td>\n",
       "      <td>136.0</td>\n",
       "      <td>5</td>\n",
       "      <td>5</td>\n",
       "      <td>0.0</td>\n",
       "      <td>0</td>\n",
       "      <td>6</td>\n",
       "      <td>4</td>\n",
       "    </tr>\n",
       "    <tr>\n",
       "      <th>2</th>\n",
       "      <td>3</td>\n",
       "      <td>68</td>\n",
       "      <td>52</td>\n",
       "      <td>1</td>\n",
       "      <td>24</td>\n",
       "      <td>116.0</td>\n",
       "      <td>1</td>\n",
       "      <td>29</td>\n",
       "      <td>0.0</td>\n",
       "      <td>1</td>\n",
       "      <td>2</td>\n",
       "      <td>3</td>\n",
       "    </tr>\n",
       "    <tr>\n",
       "      <th>3</th>\n",
       "      <td>2</td>\n",
       "      <td>33</td>\n",
       "      <td>33</td>\n",
       "      <td>0</td>\n",
       "      <td>12</td>\n",
       "      <td>33.0</td>\n",
       "      <td>2</td>\n",
       "      <td>0</td>\n",
       "      <td>0.0</td>\n",
       "      <td>1</td>\n",
       "      <td>1</td>\n",
       "      <td>1</td>\n",
       "    </tr>\n",
       "    <tr>\n",
       "      <th>4</th>\n",
       "      <td>2</td>\n",
       "      <td>23</td>\n",
       "      <td>30</td>\n",
       "      <td>1</td>\n",
       "      <td>9</td>\n",
       "      <td>30.0</td>\n",
       "      <td>1</td>\n",
       "      <td>2</td>\n",
       "      <td>0.0</td>\n",
       "      <td>0</td>\n",
       "      <td>4</td>\n",
       "      <td>3</td>\n",
       "    </tr>\n",
       "    <tr>\n",
       "      <th>...</th>\n",
       "      <td>...</td>\n",
       "      <td>...</td>\n",
       "      <td>...</td>\n",
       "      <td>...</td>\n",
       "      <td>...</td>\n",
       "      <td>...</td>\n",
       "      <td>...</td>\n",
       "      <td>...</td>\n",
       "      <td>...</td>\n",
       "      <td>...</td>\n",
       "      <td>...</td>\n",
       "      <td>...</td>\n",
       "    </tr>\n",
       "    <tr>\n",
       "      <th>995</th>\n",
       "      <td>3</td>\n",
       "      <td>10</td>\n",
       "      <td>39</td>\n",
       "      <td>0</td>\n",
       "      <td>0</td>\n",
       "      <td>27.0</td>\n",
       "      <td>3</td>\n",
       "      <td>0</td>\n",
       "      <td>0.0</td>\n",
       "      <td>1</td>\n",
       "      <td>3</td>\n",
       "      <td>1</td>\n",
       "    </tr>\n",
       "    <tr>\n",
       "      <th>996</th>\n",
       "      <td>1</td>\n",
       "      <td>7</td>\n",
       "      <td>34</td>\n",
       "      <td>0</td>\n",
       "      <td>2</td>\n",
       "      <td>22.0</td>\n",
       "      <td>5</td>\n",
       "      <td>5</td>\n",
       "      <td>0.0</td>\n",
       "      <td>1</td>\n",
       "      <td>1</td>\n",
       "      <td>1</td>\n",
       "    </tr>\n",
       "    <tr>\n",
       "      <th>997</th>\n",
       "      <td>3</td>\n",
       "      <td>67</td>\n",
       "      <td>59</td>\n",
       "      <td>0</td>\n",
       "      <td>40</td>\n",
       "      <td>944.0</td>\n",
       "      <td>5</td>\n",
       "      <td>33</td>\n",
       "      <td>0.0</td>\n",
       "      <td>1</td>\n",
       "      <td>1</td>\n",
       "      <td>4</td>\n",
       "    </tr>\n",
       "    <tr>\n",
       "      <th>998</th>\n",
       "      <td>3</td>\n",
       "      <td>70</td>\n",
       "      <td>49</td>\n",
       "      <td>0</td>\n",
       "      <td>18</td>\n",
       "      <td>87.0</td>\n",
       "      <td>2</td>\n",
       "      <td>22</td>\n",
       "      <td>0.0</td>\n",
       "      <td>1</td>\n",
       "      <td>1</td>\n",
       "      <td>3</td>\n",
       "    </tr>\n",
       "    <tr>\n",
       "      <th>999</th>\n",
       "      <td>3</td>\n",
       "      <td>50</td>\n",
       "      <td>36</td>\n",
       "      <td>1</td>\n",
       "      <td>7</td>\n",
       "      <td>39.0</td>\n",
       "      <td>3</td>\n",
       "      <td>3</td>\n",
       "      <td>0.0</td>\n",
       "      <td>1</td>\n",
       "      <td>3</td>\n",
       "      <td>2</td>\n",
       "    </tr>\n",
       "  </tbody>\n",
       "</table>\n",
       "<p>1000 rows × 12 columns</p>\n",
       "</div>"
      ],
      "text/plain": [
       "     region  tenure  age  marital  address  income  ed  employ  retire  \\\n",
       "0         2      13   44        1        9    64.0   4       5     0.0   \n",
       "1         3      11   33        1        7   136.0   5       5     0.0   \n",
       "2         3      68   52        1       24   116.0   1      29     0.0   \n",
       "3         2      33   33        0       12    33.0   2       0     0.0   \n",
       "4         2      23   30        1        9    30.0   1       2     0.0   \n",
       "..      ...     ...  ...      ...      ...     ...  ..     ...     ...   \n",
       "995       3      10   39        0        0    27.0   3       0     0.0   \n",
       "996       1       7   34        0        2    22.0   5       5     0.0   \n",
       "997       3      67   59        0       40   944.0   5      33     0.0   \n",
       "998       3      70   49        0       18    87.0   2      22     0.0   \n",
       "999       3      50   36        1        7    39.0   3       3     0.0   \n",
       "\n",
       "     gender  reside  custcat  \n",
       "0         0       2        1  \n",
       "1         0       6        4  \n",
       "2         1       2        3  \n",
       "3         1       1        1  \n",
       "4         0       4        3  \n",
       "..      ...     ...      ...  \n",
       "995       1       3        1  \n",
       "996       1       1        1  \n",
       "997       1       1        4  \n",
       "998       1       1        3  \n",
       "999       1       3        2  \n",
       "\n",
       "[1000 rows x 12 columns]"
      ]
     },
     "execution_count": 3,
     "metadata": {},
     "output_type": "execute_result"
    }
   ],
   "source": [
    "df"
   ]
  },
  {
   "cell_type": "code",
   "execution_count": 4,
   "metadata": {},
   "outputs": [],
   "source": [
    "x = df.drop(['custcat'],axis=1)\n",
    "y = df['custcat']"
   ]
  },
  {
   "cell_type": "code",
   "execution_count": 5,
   "metadata": {},
   "outputs": [
    {
     "data": {
      "text/html": [
       "<div>\n",
       "<style scoped>\n",
       "    .dataframe tbody tr th:only-of-type {\n",
       "        vertical-align: middle;\n",
       "    }\n",
       "\n",
       "    .dataframe tbody tr th {\n",
       "        vertical-align: top;\n",
       "    }\n",
       "\n",
       "    .dataframe thead th {\n",
       "        text-align: right;\n",
       "    }\n",
       "</style>\n",
       "<table border=\"1\" class=\"dataframe\">\n",
       "  <thead>\n",
       "    <tr style=\"text-align: right;\">\n",
       "      <th></th>\n",
       "      <th>region</th>\n",
       "      <th>tenure</th>\n",
       "      <th>age</th>\n",
       "      <th>marital</th>\n",
       "      <th>address</th>\n",
       "      <th>income</th>\n",
       "      <th>ed</th>\n",
       "      <th>employ</th>\n",
       "      <th>retire</th>\n",
       "      <th>gender</th>\n",
       "      <th>reside</th>\n",
       "    </tr>\n",
       "  </thead>\n",
       "  <tbody>\n",
       "    <tr>\n",
       "      <th>0</th>\n",
       "      <td>2</td>\n",
       "      <td>13</td>\n",
       "      <td>44</td>\n",
       "      <td>1</td>\n",
       "      <td>9</td>\n",
       "      <td>64.0</td>\n",
       "      <td>4</td>\n",
       "      <td>5</td>\n",
       "      <td>0.0</td>\n",
       "      <td>0</td>\n",
       "      <td>2</td>\n",
       "    </tr>\n",
       "    <tr>\n",
       "      <th>1</th>\n",
       "      <td>3</td>\n",
       "      <td>11</td>\n",
       "      <td>33</td>\n",
       "      <td>1</td>\n",
       "      <td>7</td>\n",
       "      <td>136.0</td>\n",
       "      <td>5</td>\n",
       "      <td>5</td>\n",
       "      <td>0.0</td>\n",
       "      <td>0</td>\n",
       "      <td>6</td>\n",
       "    </tr>\n",
       "    <tr>\n",
       "      <th>2</th>\n",
       "      <td>3</td>\n",
       "      <td>68</td>\n",
       "      <td>52</td>\n",
       "      <td>1</td>\n",
       "      <td>24</td>\n",
       "      <td>116.0</td>\n",
       "      <td>1</td>\n",
       "      <td>29</td>\n",
       "      <td>0.0</td>\n",
       "      <td>1</td>\n",
       "      <td>2</td>\n",
       "    </tr>\n",
       "    <tr>\n",
       "      <th>3</th>\n",
       "      <td>2</td>\n",
       "      <td>33</td>\n",
       "      <td>33</td>\n",
       "      <td>0</td>\n",
       "      <td>12</td>\n",
       "      <td>33.0</td>\n",
       "      <td>2</td>\n",
       "      <td>0</td>\n",
       "      <td>0.0</td>\n",
       "      <td>1</td>\n",
       "      <td>1</td>\n",
       "    </tr>\n",
       "    <tr>\n",
       "      <th>4</th>\n",
       "      <td>2</td>\n",
       "      <td>23</td>\n",
       "      <td>30</td>\n",
       "      <td>1</td>\n",
       "      <td>9</td>\n",
       "      <td>30.0</td>\n",
       "      <td>1</td>\n",
       "      <td>2</td>\n",
       "      <td>0.0</td>\n",
       "      <td>0</td>\n",
       "      <td>4</td>\n",
       "    </tr>\n",
       "    <tr>\n",
       "      <th>...</th>\n",
       "      <td>...</td>\n",
       "      <td>...</td>\n",
       "      <td>...</td>\n",
       "      <td>...</td>\n",
       "      <td>...</td>\n",
       "      <td>...</td>\n",
       "      <td>...</td>\n",
       "      <td>...</td>\n",
       "      <td>...</td>\n",
       "      <td>...</td>\n",
       "      <td>...</td>\n",
       "    </tr>\n",
       "    <tr>\n",
       "      <th>995</th>\n",
       "      <td>3</td>\n",
       "      <td>10</td>\n",
       "      <td>39</td>\n",
       "      <td>0</td>\n",
       "      <td>0</td>\n",
       "      <td>27.0</td>\n",
       "      <td>3</td>\n",
       "      <td>0</td>\n",
       "      <td>0.0</td>\n",
       "      <td>1</td>\n",
       "      <td>3</td>\n",
       "    </tr>\n",
       "    <tr>\n",
       "      <th>996</th>\n",
       "      <td>1</td>\n",
       "      <td>7</td>\n",
       "      <td>34</td>\n",
       "      <td>0</td>\n",
       "      <td>2</td>\n",
       "      <td>22.0</td>\n",
       "      <td>5</td>\n",
       "      <td>5</td>\n",
       "      <td>0.0</td>\n",
       "      <td>1</td>\n",
       "      <td>1</td>\n",
       "    </tr>\n",
       "    <tr>\n",
       "      <th>997</th>\n",
       "      <td>3</td>\n",
       "      <td>67</td>\n",
       "      <td>59</td>\n",
       "      <td>0</td>\n",
       "      <td>40</td>\n",
       "      <td>944.0</td>\n",
       "      <td>5</td>\n",
       "      <td>33</td>\n",
       "      <td>0.0</td>\n",
       "      <td>1</td>\n",
       "      <td>1</td>\n",
       "    </tr>\n",
       "    <tr>\n",
       "      <th>998</th>\n",
       "      <td>3</td>\n",
       "      <td>70</td>\n",
       "      <td>49</td>\n",
       "      <td>0</td>\n",
       "      <td>18</td>\n",
       "      <td>87.0</td>\n",
       "      <td>2</td>\n",
       "      <td>22</td>\n",
       "      <td>0.0</td>\n",
       "      <td>1</td>\n",
       "      <td>1</td>\n",
       "    </tr>\n",
       "    <tr>\n",
       "      <th>999</th>\n",
       "      <td>3</td>\n",
       "      <td>50</td>\n",
       "      <td>36</td>\n",
       "      <td>1</td>\n",
       "      <td>7</td>\n",
       "      <td>39.0</td>\n",
       "      <td>3</td>\n",
       "      <td>3</td>\n",
       "      <td>0.0</td>\n",
       "      <td>1</td>\n",
       "      <td>3</td>\n",
       "    </tr>\n",
       "  </tbody>\n",
       "</table>\n",
       "<p>1000 rows × 11 columns</p>\n",
       "</div>"
      ],
      "text/plain": [
       "     region  tenure  age  marital  address  income  ed  employ  retire  \\\n",
       "0         2      13   44        1        9    64.0   4       5     0.0   \n",
       "1         3      11   33        1        7   136.0   5       5     0.0   \n",
       "2         3      68   52        1       24   116.0   1      29     0.0   \n",
       "3         2      33   33        0       12    33.0   2       0     0.0   \n",
       "4         2      23   30        1        9    30.0   1       2     0.0   \n",
       "..      ...     ...  ...      ...      ...     ...  ..     ...     ...   \n",
       "995       3      10   39        0        0    27.0   3       0     0.0   \n",
       "996       1       7   34        0        2    22.0   5       5     0.0   \n",
       "997       3      67   59        0       40   944.0   5      33     0.0   \n",
       "998       3      70   49        0       18    87.0   2      22     0.0   \n",
       "999       3      50   36        1        7    39.0   3       3     0.0   \n",
       "\n",
       "     gender  reside  \n",
       "0         0       2  \n",
       "1         0       6  \n",
       "2         1       2  \n",
       "3         1       1  \n",
       "4         0       4  \n",
       "..      ...     ...  \n",
       "995       1       3  \n",
       "996       1       1  \n",
       "997       1       1  \n",
       "998       1       1  \n",
       "999       1       3  \n",
       "\n",
       "[1000 rows x 11 columns]"
      ]
     },
     "execution_count": 5,
     "metadata": {},
     "output_type": "execute_result"
    }
   ],
   "source": [
    "x"
   ]
  },
  {
   "cell_type": "code",
   "execution_count": 6,
   "metadata": {},
   "outputs": [
    {
     "data": {
      "text/plain": [
       "0      1\n",
       "1      4\n",
       "2      3\n",
       "3      1\n",
       "4      3\n",
       "      ..\n",
       "995    1\n",
       "996    1\n",
       "997    4\n",
       "998    3\n",
       "999    2\n",
       "Name: custcat, Length: 1000, dtype: int64"
      ]
     },
     "execution_count": 6,
     "metadata": {},
     "output_type": "execute_result"
    }
   ],
   "source": [
    "y"
   ]
  },
  {
   "cell_type": "code",
   "execution_count": 8,
   "metadata": {},
   "outputs": [],
   "source": [
    "from sklearn import preprocessing\n",
    "\n",
    "x = preprocessing.StandardScaler().fit(x).transform(x.astype(float))"
   ]
  },
  {
   "cell_type": "code",
   "execution_count": 9,
   "metadata": {},
   "outputs": [
    {
     "data": {
      "text/plain": [
       "array([[-0.02696767, -1.055125  ,  0.18450456, ..., -0.22207644,\n",
       "        -1.03459817, -0.23065004],\n",
       "       [ 1.19883553, -1.14880563, -0.69181243, ..., -0.22207644,\n",
       "        -1.03459817,  2.55666158],\n",
       "       [ 1.19883553,  1.52109247,  0.82182601, ..., -0.22207644,\n",
       "         0.96655883, -0.23065004],\n",
       "       ...,\n",
       "       [ 1.19883553,  1.47425216,  1.37948227, ..., -0.22207644,\n",
       "         0.96655883, -0.92747794],\n",
       "       [ 1.19883553,  1.61477311,  0.58283046, ..., -0.22207644,\n",
       "         0.96655883, -0.92747794],\n",
       "       [ 1.19883553,  0.67796676, -0.45281689, ..., -0.22207644,\n",
       "         0.96655883,  0.46617787]])"
      ]
     },
     "execution_count": 9,
     "metadata": {},
     "output_type": "execute_result"
    }
   ],
   "source": [
    "x"
   ]
  },
  {
   "cell_type": "code",
   "execution_count": 10,
   "metadata": {},
   "outputs": [],
   "source": [
    "from sklearn.model_selection import train_test_split\n",
    "\n",
    "x_train,x_test,y_train,y_test = train_test_split(x,y,test_size=0.2,random_state=1)"
   ]
  },
  {
   "cell_type": "code",
   "execution_count": 11,
   "metadata": {},
   "outputs": [],
   "source": [
    "from sklearn.neighbors import KNeighborsClassifier\n",
    "\n",
    "knneigh = KNeighborsClassifier(n_neighbors=25) #you can pass any numbers"
   ]
  },
  {
   "cell_type": "code",
   "execution_count": 12,
   "metadata": {},
   "outputs": [
    {
     "data": {
      "text/plain": [
       "KNeighborsClassifier(n_neighbors=25)"
      ]
     },
     "execution_count": 12,
     "metadata": {},
     "output_type": "execute_result"
    }
   ],
   "source": [
    "knneigh.fit(x_train,y_train)"
   ]
  },
  {
   "cell_type": "code",
   "execution_count": 13,
   "metadata": {},
   "outputs": [
    {
     "data": {
      "text/plain": [
       "0.395"
      ]
     },
     "execution_count": 13,
     "metadata": {},
     "output_type": "execute_result"
    }
   ],
   "source": [
    "knneigh.score(x_test,y_test)"
   ]
  },
  {
   "cell_type": "code",
   "execution_count": 15,
   "metadata": {},
   "outputs": [
    {
     "data": {
      "text/plain": [
       "array([1, 4, 1, 2, 3, 1, 2, 2, 1, 1, 4, 3, 3, 4, 3, 4, 3, 3, 4, 1, 3, 3,\n",
       "       1, 4, 4, 1, 1, 1, 1, 1, 3, 3, 1, 3, 3, 3, 3, 4, 4, 3, 3, 2, 4, 4,\n",
       "       1, 2, 1, 1, 3, 1, 2, 2, 2, 4, 4, 1, 3, 1, 3, 4, 3, 3, 4, 2, 3, 2,\n",
       "       3, 3, 2, 3, 2, 4, 2, 3, 3, 1, 1, 2, 1, 2, 1, 3, 1, 4, 2, 3, 1, 2,\n",
       "       1, 4, 1, 3, 1, 1, 3, 3, 2, 1, 1, 4, 1, 3, 4, 1, 1, 1, 3, 1, 4, 2,\n",
       "       3, 1, 1, 4, 1, 1, 3, 1, 3, 1, 2, 2, 1, 1, 2, 3, 4, 4, 3, 4, 1, 3,\n",
       "       4, 3, 3, 1, 3, 1, 2, 4, 2, 1, 4, 4, 2, 2, 2, 2, 2, 1, 4, 3, 4, 3,\n",
       "       4, 1, 4, 3, 3, 1, 3, 1, 3, 3, 3, 1, 1, 1, 1, 1, 3, 1, 1, 3, 1, 1,\n",
       "       3, 1, 1, 1, 1, 1, 4, 2, 1, 3, 4, 3, 1, 4, 2, 1, 1, 1, 3, 3, 1, 2,\n",
       "       4, 3], dtype=int64)"
      ]
     },
     "execution_count": 15,
     "metadata": {},
     "output_type": "execute_result"
    }
   ],
   "source": [
    "predict_y = knneigh.predict(x_test)\n",
    "predict_y"
   ]
  },
  {
   "cell_type": "markdown",
   "metadata": {},
   "source": [
    "## for Error"
   ]
  },
  {
   "cell_type": "code",
   "execution_count": 20,
   "metadata": {},
   "outputs": [
    {
     "name": "stdout",
     "output_type": "stream",
     "text": [
      "[0.71]\n",
      "[0.71, 0.67]\n",
      "[0.71, 0.67, 0.655]\n",
      "[0.71, 0.67, 0.655, 0.66]\n",
      "[0.71, 0.67, 0.655, 0.66, 0.68]\n",
      "[0.71, 0.67, 0.655, 0.66, 0.68, 0.685]\n",
      "[0.71, 0.67, 0.655, 0.66, 0.68, 0.685, 0.69]\n",
      "[0.71, 0.67, 0.655, 0.66, 0.68, 0.685, 0.69, 0.65]\n",
      "[0.71, 0.67, 0.655, 0.66, 0.68, 0.685, 0.69, 0.65, 0.665]\n",
      "[0.71, 0.67, 0.655, 0.66, 0.68, 0.685, 0.69, 0.65, 0.665, 0.62]\n",
      "[0.71, 0.67, 0.655, 0.66, 0.68, 0.685, 0.69, 0.65, 0.665, 0.62, 0.63]\n",
      "[0.71, 0.67, 0.655, 0.66, 0.68, 0.685, 0.69, 0.65, 0.665, 0.62, 0.63, 0.655]\n",
      "[0.71, 0.67, 0.655, 0.66, 0.68, 0.685, 0.69, 0.65, 0.665, 0.62, 0.63, 0.655, 0.66]\n",
      "[0.71, 0.67, 0.655, 0.66, 0.68, 0.685, 0.69, 0.65, 0.665, 0.62, 0.63, 0.655, 0.66, 0.665]\n",
      "[0.71, 0.67, 0.655, 0.66, 0.68, 0.685, 0.69, 0.65, 0.665, 0.62, 0.63, 0.655, 0.66, 0.665, 0.695]\n",
      "[0.71, 0.67, 0.655, 0.66, 0.68, 0.685, 0.69, 0.65, 0.665, 0.62, 0.63, 0.655, 0.66, 0.665, 0.695, 0.655]\n",
      "[0.71, 0.67, 0.655, 0.66, 0.68, 0.685, 0.69, 0.65, 0.665, 0.62, 0.63, 0.655, 0.66, 0.665, 0.695, 0.655, 0.67]\n",
      "[0.71, 0.67, 0.655, 0.66, 0.68, 0.685, 0.69, 0.65, 0.665, 0.62, 0.63, 0.655, 0.66, 0.665, 0.695, 0.655, 0.67, 0.64]\n",
      "[0.71, 0.67, 0.655, 0.66, 0.68, 0.685, 0.69, 0.65, 0.665, 0.62, 0.63, 0.655, 0.66, 0.665, 0.695, 0.655, 0.67, 0.64, 0.63]\n",
      "[0.71, 0.67, 0.655, 0.66, 0.68, 0.685, 0.69, 0.65, 0.665, 0.62, 0.63, 0.655, 0.66, 0.665, 0.695, 0.655, 0.67, 0.64, 0.63, 0.63]\n",
      "[0.71, 0.67, 0.655, 0.66, 0.68, 0.685, 0.69, 0.65, 0.665, 0.62, 0.63, 0.655, 0.66, 0.665, 0.695, 0.655, 0.67, 0.64, 0.63, 0.63, 0.625]\n",
      "[0.71, 0.67, 0.655, 0.66, 0.68, 0.685, 0.69, 0.65, 0.665, 0.62, 0.63, 0.655, 0.66, 0.665, 0.695, 0.655, 0.67, 0.64, 0.63, 0.63, 0.625, 0.62]\n",
      "[0.71, 0.67, 0.655, 0.66, 0.68, 0.685, 0.69, 0.65, 0.665, 0.62, 0.63, 0.655, 0.66, 0.665, 0.695, 0.655, 0.67, 0.64, 0.63, 0.63, 0.625, 0.62, 0.615]\n",
      "[0.71, 0.67, 0.655, 0.66, 0.68, 0.685, 0.69, 0.65, 0.665, 0.62, 0.63, 0.655, 0.66, 0.665, 0.695, 0.655, 0.67, 0.64, 0.63, 0.63, 0.625, 0.62, 0.615, 0.62]\n",
      "[0.71, 0.67, 0.655, 0.66, 0.68, 0.685, 0.69, 0.65, 0.665, 0.62, 0.63, 0.655, 0.66, 0.665, 0.695, 0.655, 0.67, 0.64, 0.63, 0.63, 0.625, 0.62, 0.615, 0.62, 0.605]\n",
      "[0.71, 0.67, 0.655, 0.66, 0.68, 0.685, 0.69, 0.65, 0.665, 0.62, 0.63, 0.655, 0.66, 0.665, 0.695, 0.655, 0.67, 0.64, 0.63, 0.63, 0.625, 0.62, 0.615, 0.62, 0.605, 0.61]\n",
      "[0.71, 0.67, 0.655, 0.66, 0.68, 0.685, 0.69, 0.65, 0.665, 0.62, 0.63, 0.655, 0.66, 0.665, 0.695, 0.655, 0.67, 0.64, 0.63, 0.63, 0.625, 0.62, 0.615, 0.62, 0.605, 0.61, 0.64]\n",
      "[0.71, 0.67, 0.655, 0.66, 0.68, 0.685, 0.69, 0.65, 0.665, 0.62, 0.63, 0.655, 0.66, 0.665, 0.695, 0.655, 0.67, 0.64, 0.63, 0.63, 0.625, 0.62, 0.615, 0.62, 0.605, 0.61, 0.64, 0.63]\n",
      "[0.71, 0.67, 0.655, 0.66, 0.68, 0.685, 0.69, 0.65, 0.665, 0.62, 0.63, 0.655, 0.66, 0.665, 0.695, 0.655, 0.67, 0.64, 0.63, 0.63, 0.625, 0.62, 0.615, 0.62, 0.605, 0.61, 0.64, 0.63, 0.63]\n",
      "[0.71, 0.67, 0.655, 0.66, 0.68, 0.685, 0.69, 0.65, 0.665, 0.62, 0.63, 0.655, 0.66, 0.665, 0.695, 0.655, 0.67, 0.64, 0.63, 0.63, 0.625, 0.62, 0.615, 0.62, 0.605, 0.61, 0.64, 0.63, 0.63, 0.62]\n",
      "[0.71, 0.67, 0.655, 0.66, 0.68, 0.685, 0.69, 0.65, 0.665, 0.62, 0.63, 0.655, 0.66, 0.665, 0.695, 0.655, 0.67, 0.64, 0.63, 0.63, 0.625, 0.62, 0.615, 0.62, 0.605, 0.61, 0.64, 0.63, 0.63, 0.62, 0.595]\n",
      "[0.71, 0.67, 0.655, 0.66, 0.68, 0.685, 0.69, 0.65, 0.665, 0.62, 0.63, 0.655, 0.66, 0.665, 0.695, 0.655, 0.67, 0.64, 0.63, 0.63, 0.625, 0.62, 0.615, 0.62, 0.605, 0.61, 0.64, 0.63, 0.63, 0.62, 0.595, 0.59]\n",
      "[0.71, 0.67, 0.655, 0.66, 0.68, 0.685, 0.69, 0.65, 0.665, 0.62, 0.63, 0.655, 0.66, 0.665, 0.695, 0.655, 0.67, 0.64, 0.63, 0.63, 0.625, 0.62, 0.615, 0.62, 0.605, 0.61, 0.64, 0.63, 0.63, 0.62, 0.595, 0.59, 0.62]\n",
      "[0.71, 0.67, 0.655, 0.66, 0.68, 0.685, 0.69, 0.65, 0.665, 0.62, 0.63, 0.655, 0.66, 0.665, 0.695, 0.655, 0.67, 0.64, 0.63, 0.63, 0.625, 0.62, 0.615, 0.62, 0.605, 0.61, 0.64, 0.63, 0.63, 0.62, 0.595, 0.59, 0.62, 0.62]\n",
      "[0.71, 0.67, 0.655, 0.66, 0.68, 0.685, 0.69, 0.65, 0.665, 0.62, 0.63, 0.655, 0.66, 0.665, 0.695, 0.655, 0.67, 0.64, 0.63, 0.63, 0.625, 0.62, 0.615, 0.62, 0.605, 0.61, 0.64, 0.63, 0.63, 0.62, 0.595, 0.59, 0.62, 0.62, 0.62]\n",
      "[0.71, 0.67, 0.655, 0.66, 0.68, 0.685, 0.69, 0.65, 0.665, 0.62, 0.63, 0.655, 0.66, 0.665, 0.695, 0.655, 0.67, 0.64, 0.63, 0.63, 0.625, 0.62, 0.615, 0.62, 0.605, 0.61, 0.64, 0.63, 0.63, 0.62, 0.595, 0.59, 0.62, 0.62, 0.62, 0.6]\n",
      "[0.71, 0.67, 0.655, 0.66, 0.68, 0.685, 0.69, 0.65, 0.665, 0.62, 0.63, 0.655, 0.66, 0.665, 0.695, 0.655, 0.67, 0.64, 0.63, 0.63, 0.625, 0.62, 0.615, 0.62, 0.605, 0.61, 0.64, 0.63, 0.63, 0.62, 0.595, 0.59, 0.62, 0.62, 0.62, 0.6, 0.61]\n",
      "[0.71, 0.67, 0.655, 0.66, 0.68, 0.685, 0.69, 0.65, 0.665, 0.62, 0.63, 0.655, 0.66, 0.665, 0.695, 0.655, 0.67, 0.64, 0.63, 0.63, 0.625, 0.62, 0.615, 0.62, 0.605, 0.61, 0.64, 0.63, 0.63, 0.62, 0.595, 0.59, 0.62, 0.62, 0.62, 0.6, 0.61, 0.635]\n",
      "[0.71, 0.67, 0.655, 0.66, 0.68, 0.685, 0.69, 0.65, 0.665, 0.62, 0.63, 0.655, 0.66, 0.665, 0.695, 0.655, 0.67, 0.64, 0.63, 0.63, 0.625, 0.62, 0.615, 0.62, 0.605, 0.61, 0.64, 0.63, 0.63, 0.62, 0.595, 0.59, 0.62, 0.62, 0.62, 0.6, 0.61, 0.635, 0.625]\n"
     ]
    }
   ],
   "source": [
    "error_rate = []\n",
    "for i in range(1,40):\n",
    " knn = KNeighborsClassifier(n_neighbors=i)\n",
    " knn.fit(x_train,y_train)\n",
    " pred_i = knn.predict(x_test)\n",
    " error_rate.append(np.mean(pred_i != y_test))\n",
    " print(error_rate)"
   ]
  },
  {
   "cell_type": "code",
   "execution_count": 18,
   "metadata": {},
   "outputs": [
    {
     "name": "stdout",
     "output_type": "stream",
     "text": [
      "Minimum error:- 0.59 at K = 31\n"
     ]
    },
    {
     "data": {
      "image/png": "[encoded data removed]",
      "text/plain": [
       "<Figure size 720x432 with 1 Axes>"
      ]
     },
     "metadata": {
      "needs_background": "light"
     },
     "output_type": "display_data"
    }
   ],
   "source": [
    "plt.figure(figsize=(10,6))\n",
    "plt.plot(range(1,40),error_rate,color='blue', linestyle='dashed', \n",
    "         marker='o',markerfacecolor='red', markersize=10)\n",
    "plt.title('Error Rate vs. K Value')\n",
    "plt.xlabel('K')\n",
    "plt.ylabel('Error Rate')\n",
    "print(\"Minimum error:-\",min(error_rate),\"at K =\",error_rate.index(min(error_rate)))"
   ]
  },
  {
   "cell_type": "code",
   "execution_count": 19,
   "metadata": {},
   "outputs": [],
   "source": [
    "# Minimum error:- 0.59 at K = 31 means we should take k = 31 for minimum errors take"
   ]
  },
  {
   "cell_type": "markdown",
   "metadata": {},
   "source": [
    "## for accuracy"
   ]
  },
  {
   "cell_type": "code",
   "execution_count": 23,
   "metadata": {},
   "outputs": [
    {
     "name": "stdout",
     "output_type": "stream",
     "text": [
      "[0.29, 0.33, 0.345, 0.34, 0.32, 0.315, 0.31, 0.35, 0.335, 0.38, 0.37, 0.345, 0.34, 0.335, 0.305, 0.345, 0.33, 0.36, 0.37, 0.37, 0.375, 0.38, 0.385, 0.38, 0.395, 0.39, 0.36, 0.37, 0.37, 0.38, 0.405, 0.41, 0.38, 0.38, 0.38, 0.4, 0.39, 0.365, 0.375]\n"
     ]
    }
   ],
   "source": [
    "#From the plot, you can see that the smallest error we got is 0.59 at K=37.\n",
    "#Further on, we visualize the plot between accuracy and K value.\n",
    "\n",
    "acc = []\n",
    "# Will take some time\n",
    "from sklearn import metrics\n",
    "for i in range(1,40):\n",
    "    neigh = KNeighborsClassifier(n_neighbors = i).fit(x_train,y_train)\n",
    "    yhat = neigh.predict(x_test)\n",
    "    acc.append(metrics.accuracy_score(y_test, yhat))\n",
    " "
   ]
  },
  {
   "cell_type": "code",
   "execution_count": 24,
   "metadata": {},
   "outputs": [
    {
     "name": "stdout",
     "output_type": "stream",
     "text": [
      "Maximum accuracy:- 0.41 at K = 31\n"
     ]
    },
    {
     "data": {
      "image/png": "[encoded data removed]",
      "text/plain": [
       "<Figure size 720x432 with 1 Axes>"
      ]
     },
     "metadata": {
      "needs_background": "light"
     },
     "output_type": "display_data"
    }
   ],
   "source": [
    "plt.figure(figsize=(10,6))\n",
    "plt.plot(range(1,40),acc,color = 'blue',linestyle='dashed', \n",
    "         marker='o',markerfacecolor='red', markersize=10)\n",
    "plt.title('accuracy vs. K Value')\n",
    "plt.xlabel('K')\n",
    "plt.ylabel('Accuracy')\n",
    "print(\"Maximum accuracy:-\",max(acc),\"at K =\",acc.index(max(acc)))\n",
    "\n",
    "# Now you see the improved results. \n",
    "# We got the accuracy of 0.41 at K=31.\n",
    "# As we already derived the error plot and got the minimum error at k=31,\n",
    "# so we will get better efficiency at that K value."
   ]
  }
 ],
 "metadata": {
  "kernelspec": {
   "display_name": "Python 3.9.7 ('base')",
   "language": "python",
   "name": "python3"
  },
  "language_info": {
   "codemirror_mode": {
    "name": "ipython",
    "version": 3
   },
   "file_extension": ".py",
   "mimetype": "text/x-python",
   "name": "python",
   "nbconvert_exporter": "python",
   "pygments_lexer": "ipython3",
   "version": "3.9.7"
  },
  "orig_nbformat": 4,
  "vscode": {
   "interpreter": {
    "hash": "ad2bdc8ecc057115af97d19610ffacc2b4e99fae6737bb82f5d7fb13d2f2c186"
   }
  }
 },
 "nbformat": 4,
 "nbformat_minor": 2
}
